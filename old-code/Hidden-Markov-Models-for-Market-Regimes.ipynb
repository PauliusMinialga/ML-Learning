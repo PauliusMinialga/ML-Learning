{
 "cells": [
  {
   "cell_type": "markdown",
   "metadata": {},
   "source": [
    "## Imports"
   ]
  },
  {
   "cell_type": "code",
   "execution_count": 57,
   "metadata": {},
   "outputs": [],
   "source": [
    "import pandas as pd\n",
    "import numpy as np\n",
    "import yfinance as yf\n",
    "\n",
    "from pyhhmm.gaussian import GaussianHMM\n",
    "from pandas_datareader.data import DataReader\n",
    "\n",
    "import matplotlib.pyplot as plt"
   ]
  },
  {
   "cell_type": "markdown",
   "metadata": {},
   "source": [
    "## Data Management"
   ]
  },
  {
   "cell_type": "code",
   "execution_count": 58,
   "metadata": {},
   "outputs": [
    {
     "name": "stderr",
     "output_type": "stream",
     "text": [
      "[*********************100%***********************]  1 of 1 completed"
     ]
    },
    {
     "name": "stdout",
     "output_type": "stream",
     "text": [
      "Price              Open         High          Low        Close      Volume\n",
      "Ticker          BTC-USD      BTC-USD      BTC-USD      BTC-USD     BTC-USD\n",
      "Date                                                                      \n",
      "2019-01-03  3931.048584  3935.685059  3826.222900  3836.741211  4530215219\n",
      "2019-01-04  3832.040039  3865.934570  3783.853760  3857.717529  4847965467\n",
      "2019-01-05  3851.973877  3904.903076  3836.900146  3845.194580  5137609824\n",
      "2019-01-06  3836.519043  4093.297363  3826.513184  4076.632568  5597027440\n",
      "2019-01-07  4078.584961  4092.613525  4020.894043  4025.248291  5228625637\n"
     ]
    },
    {
     "name": "stderr",
     "output_type": "stream",
     "text": [
      "\n"
     ]
    }
   ],
   "source": [
    "# Data extraction\n",
    "start_date = \"2019-01-03\"\n",
    "end_date = \"2024-12-31\"\n",
    "symbol = \"BTC-USD\"\n",
    "data = yf.download(symbol, start=start_date, end=end_date)\n",
    "# data = DataReader(name=symbol, data_source='yahoo', start=start_date, end=end_date)\n",
    "data = data[[\"Open\", \"High\", \"Low\", \"Close\", \"Volume\"]]\n",
    "print(data.head())"
   ]
  },
  {
   "cell_type": "code",
   "execution_count": 59,
   "metadata": {},
   "outputs": [
    {
     "data": {
      "text/html": [
       "<div>\n",
       "<style scoped>\n",
       "    .dataframe tbody tr th:only-of-type {\n",
       "        vertical-align: middle;\n",
       "    }\n",
       "\n",
       "    .dataframe tbody tr th {\n",
       "        vertical-align: top;\n",
       "    }\n",
       "\n",
       "    .dataframe thead tr th {\n",
       "        text-align: left;\n",
       "    }\n",
       "\n",
       "    .dataframe thead tr:last-of-type th {\n",
       "        text-align: right;\n",
       "    }\n",
       "</style>\n",
       "<table border=\"1\" class=\"dataframe\">\n",
       "  <thead>\n",
       "    <tr>\n",
       "      <th>Price</th>\n",
       "      <th>Open</th>\n",
       "      <th>High</th>\n",
       "      <th>Low</th>\n",
       "      <th>Close</th>\n",
       "      <th>Volume</th>\n",
       "      <th>Returns</th>\n",
       "      <th>Range</th>\n",
       "    </tr>\n",
       "    <tr>\n",
       "      <th>Ticker</th>\n",
       "      <th>BTC-USD</th>\n",
       "      <th>BTC-USD</th>\n",
       "      <th>BTC-USD</th>\n",
       "      <th>BTC-USD</th>\n",
       "      <th>BTC-USD</th>\n",
       "      <th></th>\n",
       "      <th></th>\n",
       "    </tr>\n",
       "    <tr>\n",
       "      <th>Date</th>\n",
       "      <th></th>\n",
       "      <th></th>\n",
       "      <th></th>\n",
       "      <th></th>\n",
       "      <th></th>\n",
       "      <th></th>\n",
       "      <th></th>\n",
       "    </tr>\n",
       "  </thead>\n",
       "  <tbody>\n",
       "    <tr>\n",
       "      <th>2019-01-04</th>\n",
       "      <td>3832.040039</td>\n",
       "      <td>3865.934570</td>\n",
       "      <td>3783.853760</td>\n",
       "      <td>3857.717529</td>\n",
       "      <td>4847965467</td>\n",
       "      <td>0.005467</td>\n",
       "      <td>0.021692</td>\n",
       "    </tr>\n",
       "    <tr>\n",
       "      <th>2019-01-05</th>\n",
       "      <td>3851.973877</td>\n",
       "      <td>3904.903076</td>\n",
       "      <td>3836.900146</td>\n",
       "      <td>3845.194580</td>\n",
       "      <td>5137609824</td>\n",
       "      <td>-0.003246</td>\n",
       "      <td>0.017723</td>\n",
       "    </tr>\n",
       "    <tr>\n",
       "      <th>2019-01-06</th>\n",
       "      <td>3836.519043</td>\n",
       "      <td>4093.297363</td>\n",
       "      <td>3826.513184</td>\n",
       "      <td>4076.632568</td>\n",
       "      <td>5597027440</td>\n",
       "      <td>0.060189</td>\n",
       "      <td>0.069720</td>\n",
       "    </tr>\n",
       "    <tr>\n",
       "      <th>2019-01-07</th>\n",
       "      <td>4078.584961</td>\n",
       "      <td>4092.613525</td>\n",
       "      <td>4020.894043</td>\n",
       "      <td>4025.248291</td>\n",
       "      <td>5228625637</td>\n",
       "      <td>-0.012605</td>\n",
       "      <td>0.017837</td>\n",
       "    </tr>\n",
       "    <tr>\n",
       "      <th>2019-01-08</th>\n",
       "      <td>4028.472168</td>\n",
       "      <td>4109.020996</td>\n",
       "      <td>3996.955322</td>\n",
       "      <td>4030.847900</td>\n",
       "      <td>5306593305</td>\n",
       "      <td>0.001391</td>\n",
       "      <td>0.028038</td>\n",
       "    </tr>\n",
       "  </tbody>\n",
       "</table>\n",
       "</div>"
      ],
      "text/plain": [
       "Price              Open         High  ...   Returns     Range\n",
       "Ticker          BTC-USD      BTC-USD  ...                    \n",
       "Date                                  ...                    \n",
       "2019-01-04  3832.040039  3865.934570  ...  0.005467  0.021692\n",
       "2019-01-05  3851.973877  3904.903076  ... -0.003246  0.017723\n",
       "2019-01-06  3836.519043  4093.297363  ...  0.060189  0.069720\n",
       "2019-01-07  4078.584961  4092.613525  ... -0.012605  0.017837\n",
       "2019-01-08  4028.472168  4109.020996  ...  0.001391  0.028038\n",
       "\n",
       "[5 rows x 7 columns]"
      ]
     },
     "execution_count": 59,
     "metadata": {},
     "output_type": "execute_result"
    }
   ],
   "source": [
    "# Add Returns and Range\n",
    "df = data.copy()\n",
    "df[\"Returns\"] = (df[\"Close\"] / df[\"Close\"].shift(1)) - 1\n",
    "df[\"Range\"] = (df[\"High\"] / df[\"Low\"]) - 1\n",
    "df.dropna(inplace=True)\n",
    "df.head()"
   ]
  },
  {
   "cell_type": "code",
   "execution_count": 60,
   "metadata": {},
   "outputs": [
    {
     "data": {
      "text/html": [
       "<div>\n",
       "<style scoped>\n",
       "    .dataframe tbody tr th:only-of-type {\n",
       "        vertical-align: middle;\n",
       "    }\n",
       "\n",
       "    .dataframe tbody tr th {\n",
       "        vertical-align: top;\n",
       "    }\n",
       "\n",
       "    .dataframe thead tr th {\n",
       "        text-align: left;\n",
       "    }\n",
       "\n",
       "    .dataframe thead tr:last-of-type th {\n",
       "        text-align: right;\n",
       "    }\n",
       "</style>\n",
       "<table border=\"1\" class=\"dataframe\">\n",
       "  <thead>\n",
       "    <tr>\n",
       "      <th>Price</th>\n",
       "      <th>Returns</th>\n",
       "      <th>Range</th>\n",
       "    </tr>\n",
       "    <tr>\n",
       "      <th>Ticker</th>\n",
       "      <th></th>\n",
       "      <th></th>\n",
       "    </tr>\n",
       "    <tr>\n",
       "      <th>Date</th>\n",
       "      <th></th>\n",
       "      <th></th>\n",
       "    </tr>\n",
       "  </thead>\n",
       "  <tbody>\n",
       "    <tr>\n",
       "      <th>2019-01-04</th>\n",
       "      <td>0.005467</td>\n",
       "      <td>0.021692</td>\n",
       "    </tr>\n",
       "    <tr>\n",
       "      <th>2019-01-05</th>\n",
       "      <td>-0.003246</td>\n",
       "      <td>0.017723</td>\n",
       "    </tr>\n",
       "    <tr>\n",
       "      <th>2019-01-06</th>\n",
       "      <td>0.060189</td>\n",
       "      <td>0.069720</td>\n",
       "    </tr>\n",
       "    <tr>\n",
       "      <th>2019-01-07</th>\n",
       "      <td>-0.012605</td>\n",
       "      <td>0.017837</td>\n",
       "    </tr>\n",
       "    <tr>\n",
       "      <th>2019-01-08</th>\n",
       "      <td>0.001391</td>\n",
       "      <td>0.028038</td>\n",
       "    </tr>\n",
       "  </tbody>\n",
       "</table>\n",
       "</div>"
      ],
      "text/plain": [
       "Price        Returns     Range\n",
       "Ticker                        \n",
       "Date                          \n",
       "2019-01-04  0.005467  0.021692\n",
       "2019-01-05 -0.003246  0.017723\n",
       "2019-01-06  0.060189  0.069720\n",
       "2019-01-07 -0.012605  0.017837\n",
       "2019-01-08  0.001391  0.028038"
      ]
     },
     "execution_count": 60,
     "metadata": {},
     "output_type": "execute_result"
    }
   ],
   "source": [
    "# Structure Data\n",
    "X_train = df[[\"Returns\", \"Range\"]]\n",
    "X_train.head()"
   ]
  },
  {
   "cell_type": "markdown",
   "metadata": {},
   "source": [
    "## HMM Learning"
   ]
  },
  {
   "cell_type": "code",
   "execution_count": 61,
   "metadata": {},
   "outputs": [
    {
     "name": "stderr",
     "output_type": "stream",
     "text": [
      "/Users/pauliusmipauliusnialga/anaconda3/lib/python3.11/site-packages/sklearn/cluster/_kmeans.py:870: FutureWarning: The default value of `n_init` will change from 10 to 'auto' in 1.4. Set the value of `n_init` explicitly to suppress the warning\n",
      "  warnings.warn(\n"
     ]
    },
    {
     "data": {
      "text/plain": [
       "(<pyhhmm.gaussian.GaussianHMM at 0x14def9450>, 10616.546606131682)"
      ]
     },
     "execution_count": 61,
     "metadata": {},
     "output_type": "execute_result"
    }
   ],
   "source": [
    "#Train Model\n",
    "model = GaussianHMM(n_states=4, covariance_type='full', n_emissions=2)\n",
    "model.train([np.array(X_train.values)])"
   ]
  },
  {
   "cell_type": "code",
   "execution_count": 62,
   "metadata": {},
   "outputs": [
    {
     "name": "stdout",
     "output_type": "stream",
     "text": [
      "[1 1 3 1 1 1 0 1 1 0 3 1 1 1 1 1 0 1 1 1 1 1 1 1 0 1 1 1 1 1 1 1 1 1 1 3 1\n",
      " 1 1 1]\n"
     ]
    },
    {
     "data": {
      "text/plain": [
       "2188"
      ]
     },
     "execution_count": 62,
     "metadata": {},
     "output_type": "execute_result"
    }
   ],
   "source": [
    "# Check Results\n",
    "hidden_states = model.predict([X_train.values])[0]\n",
    "print(hidden_states[:40])\n",
    "len(hidden_states)\n",
    "# print(set(hidden_states))\n"
   ]
  },
  {
   "cell_type": "code",
   "execution_count": 63,
   "metadata": {},
   "outputs": [
    {
     "data": {
      "text/plain": [
       "array([[-0.02327489,  0.04828408],\n",
       "       [ 0.00120005,  0.02540551],\n",
       "       [-0.00138541,  0.12140736],\n",
       "       [ 0.03127509,  0.04810305]])"
      ]
     },
     "execution_count": 63,
     "metadata": {},
     "output_type": "execute_result"
    }
   ],
   "source": [
    "#Regime state means for each feature\n",
    "model.means"
   ]
  },
  {
   "cell_type": "code",
   "execution_count": 64,
   "metadata": {},
   "outputs": [
    {
     "data": {
      "text/plain": [
       "array([[[ 4.39637991e-04, -3.14330981e-04],\n",
       "        [-3.14330981e-04,  5.11383747e-04]],\n",
       "\n",
       "       [[ 1.34376827e-04,  2.83296351e-05],\n",
       "        [ 2.83296351e-05,  1.30186770e-04]],\n",
       "\n",
       "       [[ 5.84315181e-03, -1.37019581e-03],\n",
       "        [-1.37019581e-03,  4.69633842e-03]],\n",
       "\n",
       "       [[ 6.14272158e-04,  5.62087506e-04],\n",
       "        [ 5.62087506e-04,  6.16827785e-04]]])"
      ]
     },
     "execution_count": 64,
     "metadata": {},
     "output_type": "execute_result"
    }
   ],
   "source": [
    "# Regime state covars for each feature\n",
    "model.covars"
   ]
  },
  {
   "cell_type": "markdown",
   "metadata": {},
   "source": [
    "## Data Visualization"
   ]
  },
  {
   "cell_type": "code",
   "execution_count": 68,
   "metadata": {},
   "outputs": [
    {
     "name": "stdout",
     "output_type": "stream",
     "text": [
      "Correct number of rows:  True\n"
     ]
    }
   ],
   "source": [
    "# Structure the prices for plotting\n",
    "i = 0\n",
    "labels_0 = []\n",
    "labels_1 = []\n",
    "labels_2 = []\n",
    "labels_3 = []\n",
    "prices = df[\"Close\"].values.astype(float)\n",
    "print(\"Correct number of rows: \", len(prices) == len(hidden_states))\n",
    "for s in hidden_states:\n",
    "    if s == 0:\n",
    "        labels_0.append(prices[i])\n",
    "        labels_1.append(np.nan)\n",
    "        labels_2.append(np.nan)\n",
    "        labels_3.append(np.nan)\n",
    "    if s == 1:\n",
    "        labels_0.append(np.nan)\n",
    "        labels_1.append(prices[i])\n",
    "        labels_2.append(np.nan)\n",
    "        labels_3.append(np.nan)\n",
    "    if s == 2:\n",
    "        labels_0.append(np.nan)\n",
    "        labels_1.append(np.nan)\n",
    "        labels_2.append(prices[i])\n",
    "        labels_3.append(np.nan)\n",
    "    if s == 3:\n",
    "        labels_0.append(np.nan)\n",
    "        labels_1.append(np.nan)\n",
    "        labels_2.append(np.nan)\n",
    "        labels_3.append(prices[i])\n",
    "    i += 1"
   ]
  },
  {
   "cell_type": "code",
   "execution_count": 73,
   "metadata": {},
   "outputs": [
    {
     "name": "stdout",
     "output_type": "stream",
     "text": [
      "Type of labels_0: <class 'list'>, Length: 2188\n",
      "Type of labels_1: <class 'list'>, Length: 2188\n",
      "Type of labels_2: <class 'list'>, Length: 2188\n",
      "Type of labels_3: <class 'list'>, Length: 2188\n",
      "First 10 elements of labels_0: [nan, nan, nan, nan, nan, nan, array([3678.92456055]), nan, nan, array([3552.953125])]\n",
      "First 10 elements of labels_1: [array([3857.7175293]), array([3845.19458008]), nan, array([4025.24829102]), array([4030.84790039]), array([4035.29638672]), nan, array([3687.36547852]), array([3661.30102539]), nan]\n",
      "First 10 elements of labels_2: [nan, nan, nan, nan, nan, nan, nan, nan, nan, nan]\n",
      "First 10 elements of labels_3: [nan, nan, array([4076.63256836]), nan, nan, nan, nan, nan, nan, nan]\n"
     ]
    }
   ],
   "source": [
    "print(f\"Type of labels_0: {type(labels_0)}, Length: {len(labels_0)}\")\n",
    "print(f\"Type of labels_1: {type(labels_1)}, Length: {len(labels_1)}\")\n",
    "print(f\"Type of labels_2: {type(labels_2)}, Length: {len(labels_2)}\")\n",
    "print(f\"Type of labels_3: {type(labels_3)}, Length: {len(labels_3)}\")\n",
    "len(hidden_states)\n",
    "\n",
    "print(f\"First 10 elements of labels_0: {labels_0[:10]}\")\n",
    "print(f\"First 10 elements of labels_1: {labels_1[:10]}\")\n",
    "print(f\"First 10 elements of labels_2: {labels_2[:10]}\")\n",
    "print(f\"First 10 elements of labels_3: {labels_3[:10]}\")\n",
    "\n"
   ]
  },
  {
   "cell_type": "code",
   "execution_count": 70,
   "metadata": {},
   "outputs": [
    {
     "ename": "ValueError",
     "evalue": "Input could not be cast to an at-least-1D NumPy array",
     "output_type": "error",
     "traceback": [
      "\u001b[0;31m---------------------------------------------------------------------------\u001b[0m",
      "\u001b[0;31mValueError\u001b[0m                                Traceback (most recent call last)",
      "Cell \u001b[0;32mIn[70], line 3\u001b[0m\n\u001b[1;32m      1\u001b[0m \u001b[38;5;66;03m# Plot Chart\u001b[39;00m\n\u001b[1;32m      2\u001b[0m fig \u001b[38;5;241m=\u001b[39m plt\u001b[38;5;241m.\u001b[39mfigure(figsize\u001b[38;5;241m=\u001b[39m(\u001b[38;5;241m18\u001b[39m, \u001b[38;5;241m8\u001b[39m))\n\u001b[0;32m----> 3\u001b[0m plt\u001b[38;5;241m.\u001b[39mplot(labels_0, color\u001b[38;5;241m=\u001b[39m\u001b[38;5;124m\"\u001b[39m\u001b[38;5;124mgreen\u001b[39m\u001b[38;5;124m\"\u001b[39m)\n\u001b[1;32m      4\u001b[0m plt\u001b[38;5;241m.\u001b[39mplot(labels_1, color\u001b[38;5;241m=\u001b[39m\u001b[38;5;124m\"\u001b[39m\u001b[38;5;124mred\u001b[39m\u001b[38;5;124m\"\u001b[39m)\n\u001b[1;32m      5\u001b[0m plt\u001b[38;5;241m.\u001b[39mplot(labels_2, color\u001b[38;5;241m=\u001b[39m\u001b[38;5;124m\"\u001b[39m\u001b[38;5;124morange\u001b[39m\u001b[38;5;124m\"\u001b[39m)\n",
      "File \u001b[0;32m~/anaconda3/lib/python3.11/site-packages/matplotlib/pyplot.py:3829\u001b[0m, in \u001b[0;36mplot\u001b[0;34m(scalex, scaley, data, *args, **kwargs)\u001b[0m\n\u001b[1;32m   <a href='file:///Users/pauliusmipauliusnialga/anaconda3/lib/python3.11/site-packages/matplotlib/pyplot.py?line=3820'>3821</a>\u001b[0m \u001b[39m@_copy_docstring_and_deprecators\u001b[39m(Axes\u001b[39m.\u001b[39mplot)\n\u001b[1;32m   <a href='file:///Users/pauliusmipauliusnialga/anaconda3/lib/python3.11/site-packages/matplotlib/pyplot.py?line=3821'>3822</a>\u001b[0m \u001b[39mdef\u001b[39;00m \u001b[39mplot\u001b[39m(\n\u001b[1;32m   <a href='file:///Users/pauliusmipauliusnialga/anaconda3/lib/python3.11/site-packages/matplotlib/pyplot.py?line=3822'>3823</a>\u001b[0m     \u001b[39m*\u001b[39margs: \u001b[39mfloat\u001b[39m \u001b[39m|\u001b[39m ArrayLike \u001b[39m|\u001b[39m \u001b[39mstr\u001b[39m,\n\u001b[0;32m   (...)\u001b[0m\n\u001b[1;32m   <a href='file:///Users/pauliusmipauliusnialga/anaconda3/lib/python3.11/site-packages/matplotlib/pyplot.py?line=3826'>3827</a>\u001b[0m     \u001b[39m*\u001b[39m\u001b[39m*\u001b[39mkwargs,\n\u001b[1;32m   <a href='file:///Users/pauliusmipauliusnialga/anaconda3/lib/python3.11/site-packages/matplotlib/pyplot.py?line=3827'>3828</a>\u001b[0m ) \u001b[39m-\u001b[39m\u001b[39m>\u001b[39m \u001b[39mlist\u001b[39m[Line2D]:\n\u001b[0;32m-> <a href='file:///Users/pauliusmipauliusnialga/anaconda3/lib/python3.11/site-packages/matplotlib/pyplot.py?line=3828'>3829</a>\u001b[0m     \u001b[39mreturn\u001b[39;00m gca()\u001b[39m.\u001b[39mplot(\n\u001b[1;32m   <a href='file:///Users/pauliusmipauliusnialga/anaconda3/lib/python3.11/site-packages/matplotlib/pyplot.py?line=3829'>3830</a>\u001b[0m         \u001b[39m*\u001b[39margs,\n\u001b[1;32m   <a href='file:///Users/pauliusmipauliusnialga/anaconda3/lib/python3.11/site-packages/matplotlib/pyplot.py?line=3830'>3831</a>\u001b[0m         scalex\u001b[39m=\u001b[39mscalex,\n\u001b[1;32m   <a href='file:///Users/pauliusmipauliusnialga/anaconda3/lib/python3.11/site-packages/matplotlib/pyplot.py?line=3831'>3832</a>\u001b[0m         scaley\u001b[39m=\u001b[39mscaley,\n\u001b[1;32m   <a href='file:///Users/pauliusmipauliusnialga/anaconda3/lib/python3.11/site-packages/matplotlib/pyplot.py?line=3832'>3833</a>\u001b[0m         \u001b[39m*\u001b[39m\u001b[39m*\u001b[39m({\u001b[39m\"\u001b[39m\u001b[39mdata\u001b[39m\u001b[39m\"\u001b[39m: data} \u001b[39mif\u001b[39;00m data \u001b[39mis\u001b[39;00m \u001b[39mnot\u001b[39;00m \u001b[39mNone\u001b[39;00m \u001b[39melse\u001b[39;00m {}),\n\u001b[1;32m   <a href='file:///Users/pauliusmipauliusnialga/anaconda3/lib/python3.11/site-packages/matplotlib/pyplot.py?line=3833'>3834</a>\u001b[0m         \u001b[39m*\u001b[39m\u001b[39m*\u001b[39mkwargs,\n\u001b[1;32m   <a href='file:///Users/pauliusmipauliusnialga/anaconda3/lib/python3.11/site-packages/matplotlib/pyplot.py?line=3834'>3835</a>\u001b[0m     )\n",
      "File \u001b[0;32m~/anaconda3/lib/python3.11/site-packages/matplotlib/axes/_axes.py:1777\u001b[0m, in \u001b[0;36mAxes.plot\u001b[0;34m(self, scalex, scaley, data, *args, **kwargs)\u001b[0m\n\u001b[1;32m   <a href='file:///Users/pauliusmipauliusnialga/anaconda3/lib/python3.11/site-packages/matplotlib/axes/_axes.py?line=1533'>1534</a>\u001b[0m \u001b[39m\u001b[39m\u001b[39m\"\"\"\u001b[39;00m\n\u001b[1;32m   <a href='file:///Users/pauliusmipauliusnialga/anaconda3/lib/python3.11/site-packages/matplotlib/axes/_axes.py?line=1534'>1535</a>\u001b[0m \u001b[39mPlot y versus x as lines and/or markers.\u001b[39;00m\n\u001b[1;32m   <a href='file:///Users/pauliusmipauliusnialga/anaconda3/lib/python3.11/site-packages/matplotlib/axes/_axes.py?line=1535'>1536</a>\u001b[0m \n\u001b[0;32m   (...)\u001b[0m\n\u001b[1;32m   <a href='file:///Users/pauliusmipauliusnialga/anaconda3/lib/python3.11/site-packages/matplotlib/axes/_axes.py?line=1773'>1774</a>\u001b[0m \u001b[39m(``'green'``) or hex strings (``'#008000'``).\u001b[39;00m\n\u001b[1;32m   <a href='file:///Users/pauliusmipauliusnialga/anaconda3/lib/python3.11/site-packages/matplotlib/axes/_axes.py?line=1774'>1775</a>\u001b[0m \u001b[39m\"\"\"\u001b[39;00m\n\u001b[1;32m   <a href='file:///Users/pauliusmipauliusnialga/anaconda3/lib/python3.11/site-packages/matplotlib/axes/_axes.py?line=1775'>1776</a>\u001b[0m kwargs \u001b[39m=\u001b[39m cbook\u001b[39m.\u001b[39mnormalize_kwargs(kwargs, mlines\u001b[39m.\u001b[39mLine2D)\n\u001b[0;32m-> <a href='file:///Users/pauliusmipauliusnialga/anaconda3/lib/python3.11/site-packages/matplotlib/axes/_axes.py?line=1776'>1777</a>\u001b[0m lines \u001b[39m=\u001b[39m [\u001b[39m*\u001b[39m\u001b[39mself\u001b[39m\u001b[39m.\u001b[39m_get_lines(\u001b[39mself\u001b[39m, \u001b[39m*\u001b[39margs, data\u001b[39m=\u001b[39mdata, \u001b[39m*\u001b[39m\u001b[39m*\u001b[39mkwargs)]\n\u001b[1;32m   <a href='file:///Users/pauliusmipauliusnialga/anaconda3/lib/python3.11/site-packages/matplotlib/axes/_axes.py?line=1777'>1778</a>\u001b[0m \u001b[39mfor\u001b[39;00m line \u001b[39min\u001b[39;00m lines:\n\u001b[1;32m   <a href='file:///Users/pauliusmipauliusnialga/anaconda3/lib/python3.11/site-packages/matplotlib/axes/_axes.py?line=1778'>1779</a>\u001b[0m     \u001b[39mself\u001b[39m\u001b[39m.\u001b[39madd_line(line)\n",
      "File \u001b[0;32m~/anaconda3/lib/python3.11/site-packages/matplotlib/axes/_base.py:297\u001b[0m, in \u001b[0;36m_process_plot_var_args.__call__\u001b[0;34m(self, axes, data, return_kwargs, *args, **kwargs)\u001b[0m\n\u001b[1;32m    <a href='file:///Users/pauliusmipauliusnialga/anaconda3/lib/python3.11/site-packages/matplotlib/axes/_base.py?line=294'>295</a>\u001b[0m     this \u001b[39m+\u001b[39m\u001b[39m=\u001b[39m args[\u001b[39m0\u001b[39m],\n\u001b[1;32m    <a href='file:///Users/pauliusmipauliusnialga/anaconda3/lib/python3.11/site-packages/matplotlib/axes/_base.py?line=295'>296</a>\u001b[0m     args \u001b[39m=\u001b[39m args[\u001b[39m1\u001b[39m:]\n\u001b[0;32m--> <a href='file:///Users/pauliusmipauliusnialga/anaconda3/lib/python3.11/site-packages/matplotlib/axes/_base.py?line=296'>297</a>\u001b[0m \u001b[39myield from\u001b[39;00m \u001b[39mself\u001b[39m\u001b[39m.\u001b[39m_plot_args(\n\u001b[1;32m    <a href='file:///Users/pauliusmipauliusnialga/anaconda3/lib/python3.11/site-packages/matplotlib/axes/_base.py?line=297'>298</a>\u001b[0m     axes, this, kwargs, ambiguous_fmt_datakey\u001b[39m=\u001b[39mambiguous_fmt_datakey,\n\u001b[1;32m    <a href='file:///Users/pauliusmipauliusnialga/anaconda3/lib/python3.11/site-packages/matplotlib/axes/_base.py?line=298'>299</a>\u001b[0m     return_kwargs\u001b[39m=\u001b[39mreturn_kwargs\n\u001b[1;32m    <a href='file:///Users/pauliusmipauliusnialga/anaconda3/lib/python3.11/site-packages/matplotlib/axes/_base.py?line=299'>300</a>\u001b[0m )\n",
      "File \u001b[0;32m~/anaconda3/lib/python3.11/site-packages/matplotlib/axes/_base.py:486\u001b[0m, in \u001b[0;36m_process_plot_var_args._plot_args\u001b[0;34m(self, axes, tup, kwargs, return_kwargs, ambiguous_fmt_datakey)\u001b[0m\n\u001b[1;32m    <a href='file:///Users/pauliusmipauliusnialga/anaconda3/lib/python3.11/site-packages/matplotlib/axes/_base.py?line=483'>484</a>\u001b[0m     y \u001b[39m=\u001b[39m _check_1d(xy[\u001b[39m1\u001b[39m])\n\u001b[1;32m    <a href='file:///Users/pauliusmipauliusnialga/anaconda3/lib/python3.11/site-packages/matplotlib/axes/_base.py?line=484'>485</a>\u001b[0m \u001b[39melse\u001b[39;00m:\n\u001b[0;32m--> <a href='file:///Users/pauliusmipauliusnialga/anaconda3/lib/python3.11/site-packages/matplotlib/axes/_base.py?line=485'>486</a>\u001b[0m     x, y \u001b[39m=\u001b[39m index_of(xy[\u001b[39m-\u001b[39m\u001b[39m1\u001b[39m])\n\u001b[1;32m    <a href='file:///Users/pauliusmipauliusnialga/anaconda3/lib/python3.11/site-packages/matplotlib/axes/_base.py?line=487'>488</a>\u001b[0m \u001b[39mif\u001b[39;00m axes\u001b[39m.\u001b[39mxaxis \u001b[39mis\u001b[39;00m \u001b[39mnot\u001b[39;00m \u001b[39mNone\u001b[39;00m:\n\u001b[1;32m    <a href='file:///Users/pauliusmipauliusnialga/anaconda3/lib/python3.11/site-packages/matplotlib/axes/_base.py?line=488'>489</a>\u001b[0m     axes\u001b[39m.\u001b[39mxaxis\u001b[39m.\u001b[39mupdate_units(x)\n",
      "File \u001b[0;32m~/anaconda3/lib/python3.11/site-packages/matplotlib/cbook.py:1672\u001b[0m, in \u001b[0;36mindex_of\u001b[0;34m(y)\u001b[0m\n\u001b[1;32m   <a href='file:///Users/pauliusmipauliusnialga/anaconda3/lib/python3.11/site-packages/matplotlib/cbook.py?line=1669'>1670</a>\u001b[0m \u001b[39melse\u001b[39;00m:\n\u001b[1;32m   <a href='file:///Users/pauliusmipauliusnialga/anaconda3/lib/python3.11/site-packages/matplotlib/cbook.py?line=1670'>1671</a>\u001b[0m     \u001b[39mreturn\u001b[39;00m np\u001b[39m.\u001b[39marange(y\u001b[39m.\u001b[39mshape[\u001b[39m0\u001b[39m], dtype\u001b[39m=\u001b[39m\u001b[39mfloat\u001b[39m), y\n\u001b[0;32m-> <a href='file:///Users/pauliusmipauliusnialga/anaconda3/lib/python3.11/site-packages/matplotlib/cbook.py?line=1671'>1672</a>\u001b[0m \u001b[39mraise\u001b[39;00m \u001b[39mValueError\u001b[39;00m(\u001b[39m'\u001b[39m\u001b[39mInput could not be cast to an at-least-1D NumPy array\u001b[39m\u001b[39m'\u001b[39m)\n",
      "\u001b[0;31mValueError\u001b[0m: Input could not be cast to an at-least-1D NumPy array"
     ]
    },
    {
     "data": {
      "image/png": "[encoded data removed]",
      "text/plain": [
       "<Figure size 1800x800 with 1 Axes>"
      ]
     },
     "metadata": {},
     "output_type": "display_data"
    }
   ],
   "source": [
    "# Plot Chart\n",
    "fig = plt.figure(figsize=(18, 8))\n",
    "plt.plot(labels_0, color=\"green\")\n",
    "plt.plot(labels_1, color=\"red\")\n",
    "plt.plot(labels_2, color=\"orange\")\n",
    "plt.plot(labels_3, color=\"black\")\n",
    "plt.show()\n",
    "# dummy_data = [1, 2, np.nan, 4, 5]\n",
    "# fig = plt.figure(figsize=(18, 8))\n",
    "# plt.plot(range(len(dummy_data)), dummy_data, color=\"blue\")\n",
    "# plt.show()"
   ]
  },
  {
   "cell_type": "code",
   "execution_count": null,
   "metadata": {},
   "outputs": [],
   "source": []
  },
  {
   "cell_type": "code",
   "execution_count": null,
   "metadata": {},
   "outputs": [],
   "source": []
  }
 ],
 "metadata": {
  "kernelspec": {
   "display_name": "base",
   "language": "python",
   "name": "python3"
  },
  "language_info": {
   "codemirror_mode": {
    "name": "ipython",
    "version": 3
   },
   "file_extension": ".py",
   "mimetype": "text/x-python",
   "name": "python",
   "nbconvert_exporter": "python",
   "pygments_lexer": "ipython3",
   "version": "undefined.undefined.undefined"
  },
  "orig_nbformat": 4
 },
 "nbformat": 4,
 "nbformat_minor": 2
}
